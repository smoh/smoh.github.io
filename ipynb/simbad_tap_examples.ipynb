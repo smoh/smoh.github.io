{
 "cells": [
  {
   "cell_type": "markdown",
   "metadata": {},
   "source": [
    "# How to use Simbad TAP Service\n",
    "\n",
    "The Table Access Protocol ([TAP](http://www.ivoa.net/documents/TAP/)) is a way to access astronomical databases using the Astronomical Data Query Language (ADQL). The [ADQL](http://www.ivoa.net/documents/latest/ADQL.html) is a variant of SQL that supports querying grammar for astronomical operations.\n",
    "\n",
    "[Simbad](http://simbad.u-strasbg.fr/simbad/) is a database for astronomical objects that is updated constantly from the literature. It can be accessed by various methods including TAP.\n",
    "\n",
    "I recently wanted to\n",
    "- retrieve all related bibliography for a set of objects\n",
    "- get all radial velocity measurements for a set of objects\n",
    "\n",
    "It turns out this is fairly simple with [pyvo](#) and ADQL."
   ]
  },
  {
   "cell_type": "markdown",
   "metadata": {},
   "source": [
    "Pyvo provides a collection of python modules related to [Virtual observatory](https://en.wikipedia.org/wiki/Virtual_observatory). For Simbad, we can simply create an instance of its `vo.dal.TAPService` class with the `baseurl` set to TAP endpoint."
   ]
  },
  {
   "cell_type": "code",
   "execution_count": 1,
   "metadata": {
    "collapsed": false
   },
   "outputs": [],
   "source": [
    "%matplotlib inline\n",
    "import matplotlib.pyplot as plt\n",
    "plt.style.use(\"seaborn-talk\")\n",
    "import pandas as pd\n",
    "import numpy as np\n",
    "\n",
    "from astropy.table import Table\n",
    "import pyvo as vo"
   ]
  },
  {
   "cell_type": "code",
   "execution_count": 2,
   "metadata": {
    "collapsed": true
   },
   "outputs": [],
   "source": [
    "simbadtap = vo.dal.TAPService(\"http://simbad.u-strasbg.fr/simbad/sim-tap\")"
   ]
  },
  {
   "cell_type": "markdown",
   "metadata": {},
   "source": [
    "Let's see all the available tables."
   ]
  },
  {
   "cell_type": "code",
   "execution_count": 24,
   "metadata": {
    "collapsed": true
   },
   "outputs": [],
   "source": [
    "# get all tables\n",
    "# tables method of TAPService parses the response of /tables,\n",
    "# but it will result in exception due to a possible bug in astropy vo\n",
    "# but you can also just query the database for this info\n",
    "result = simbadtap.run_sync(\"select * from TAP_SCHEMA.tables where schema_name not like 'TAP_SCHEMA'\")"
   ]
  },
  {
   "cell_type": "code",
   "execution_count": 26,
   "metadata": {
    "collapsed": false
   },
   "outputs": [
    {
     "name": "stdout",
     "output_type": "stream",
     "text": [
      "number of tables available = 42\n"
     ]
    },
    {
     "data": {
      "text/html": [
       "&lt;Table masked=True length=5&gt;\n",
       "<table id=\"table4619165144\" class=\"table-striped table-bordered table-condensed\">\n",
       "<thead><tr><th>table_name</th><th>description</th></tr></thead>\n",
       "<thead><tr><th>object</th><th>object</th></tr></thead>\n",
       "<tr><td>basic</td><td>General data about an astronomical object</td></tr>\n",
       "<tr><td>otypes</td><td>List of all object types associated with an object</td></tr>\n",
       "<tr><td>ids</td><td>all names concatenated with pipe</td></tr>\n",
       "<tr><td>alltypes</td><td>all object types concatenated with pipe</td></tr>\n",
       "<tr><td>otypedef</td><td>all names and definitions for the object types</td></tr>\n",
       "</table>"
      ],
      "text/plain": [
       "<Table masked=True length=5>\n",
       "table_name                    description                    \n",
       "  object                         object                      \n",
       "---------- --------------------------------------------------\n",
       "     basic          General data about an astronomical object\n",
       "    otypes List of all object types associated with an object\n",
       "       ids                   all names concatenated with pipe\n",
       "  alltypes            all object types concatenated with pipe\n",
       "  otypedef     all names and definitions for the object types"
      ]
     },
     "execution_count": 26,
     "metadata": {},
     "output_type": "execute_result"
    }
   ],
   "source": [
    "print(\"number of tables available = {:d}\".format(len(result.table)))\n",
    "result.table[:5]['table_name','description']"
   ]
  },
  {
   "cell_type": "markdown",
   "metadata": {},
   "source": [
    "## Get all identifiers of an object"
   ]
  },
  {
   "cell_type": "code",
   "execution_count": null,
   "metadata": {
    "collapsed": true
   },
   "outputs": [],
   "source": []
  },
  {
   "cell_type": "markdown",
   "metadata": {},
   "source": [
    "## Get all velocity measurements"
   ]
  },
  {
   "cell_type": "markdown",
   "metadata": {},
   "source": [
    "The relevant table for RV measurements is `mesVelocities`. We also need `ident` table which has\n",
    "two columns, `oidref` and `id` where `oidref` is unique internally, and `id` is all possible known\n",
    "names of sources. we use `oidref` to crossmatch tables. We can first check what columns are in `mesVelocities` and `ident` tables."
   ]
  },
  {
   "cell_type": "code",
   "execution_count": 22,
   "metadata": {
    "collapsed": false
   },
   "outputs": [],
   "source": [
    "def pprint_columns_description(tablename):\n",
    "    \"\"\"Pretty print column description table\"\"\"\n",
    "    rows = []\n",
    "    for col in simbadtap.run_sync(\n",
    "        \"select top 0 * from {}\".format(tablename)).table.itercols():\n",
    "        rows.append([col.name, col.dtype.str, col.description])\n",
    "    tt = Table(rows=rows, names=['colname', 'dtype','description'])\n",
    "    return tt"
   ]
  },
  {
   "cell_type": "code",
   "execution_count": 6,
   "metadata": {
    "collapsed": false
   },
   "outputs": [
    {
     "data": {
      "text/html": [
       "&lt;Table length=2&gt;\n",
       "<table id=\"table4540428128\" class=\"table-striped table-bordered table-condensed\">\n",
       "<thead><tr><th>colname</th><th>dtype</th><th>description</th></tr></thead>\n",
       "<thead><tr><th>str6</th><th>str3</th><th>str26</th></tr></thead>\n",
       "<tr><td>id</td><td>|O</td><td>Identifier</td></tr>\n",
       "<tr><td>oidref</td><td>&lt;i8</td><td>Object internal identifier</td></tr>\n",
       "</table>"
      ],
      "text/plain": [
       "<Table length=2>\n",
       "colname dtype        description        \n",
       "  str6   str3           str26           \n",
       "------- ----- --------------------------\n",
       "     id    |O                 Identifier\n",
       " oidref   <i8 Object internal identifier"
      ]
     },
     "execution_count": 6,
     "metadata": {},
     "output_type": "execute_result"
    }
   ],
   "source": [
    "pprint_columns_description(\"ident\")"
   ]
  },
  {
   "cell_type": "code",
   "execution_count": 7,
   "metadata": {
    "collapsed": false
   },
   "outputs": [
    {
     "data": {
      "text/html": [
       "&lt;Table length=20&gt;\n",
       "<table id=\"table4539563760\" class=\"table-striped table-bordered table-condensed\">\n",
       "<thead><tr><th>colname</th><th>dtype</th><th>description</th></tr></thead>\n",
       "<thead><tr><th>str14</th><th>str3</th><th>str71</th></tr></thead>\n",
       "<tr><td>bibcode</td><td>|O</td><td>measurement bibcode</td></tr>\n",
       "<tr><td>d</td><td>|S1</td><td>&apos;D&apos; if the resolution is a conversion from the dispersion</td></tr>\n",
       "<tr><td>meanError</td><td>&lt;f4</td><td>sigma(Value)</td></tr>\n",
       "<tr><td>meanError_prec</td><td>&lt;i2</td><td>Precision (# of decimal positions) associated with the column meanError</td></tr>\n",
       "<tr><td>mespos</td><td>&lt;i2</td><td>Position of a measurement in a list of measurements</td></tr>\n",
       "<tr><td>nature</td><td>|O</td><td>nature of the measurement</td></tr>\n",
       "<tr><td>nbmes</td><td>&lt;i2</td><td>Number of measurements</td></tr>\n",
       "<tr><td>obsdate</td><td>&lt;f8</td><td>Observation date</td></tr>\n",
       "<tr><td>obsdate_prec</td><td>&lt;i2</td><td>Precision (# of decimal positions) associated with the column obsdate</td></tr>\n",
       "<tr><td>oidref</td><td>&lt;i8</td><td>Object internal identifier</td></tr>\n",
       "<tr><td>origin</td><td>|O</td><td>Origin of the radial velocity</td></tr>\n",
       "<tr><td>qual</td><td>|S1</td><td>Quality</td></tr>\n",
       "<tr><td>quality</td><td>|S1</td><td>Quality</td></tr>\n",
       "<tr><td>remark</td><td>|S1</td><td>colon is uncertain question mark is questionable</td></tr>\n",
       "<tr><td>remarks</td><td>|O</td><td>Remarks</td></tr>\n",
       "<tr><td>resolution</td><td>&lt;i4</td><td>Resolution</td></tr>\n",
       "<tr><td>velType</td><td>|O</td><td>velocity type (v, z or cz)</td></tr>\n",
       "<tr><td>velValue</td><td>&lt;f8</td><td>Velocity</td></tr>\n",
       "<tr><td>velValue_prec</td><td>&lt;i2</td><td>Precision (# of decimal positions) associated with the column velValue</td></tr>\n",
       "<tr><td>wdomain</td><td>|O</td><td>Wavelength domain (Rad,mm,IR,Opt,UV,XRay,Gam)</td></tr>\n",
       "</table>"
      ],
      "text/plain": [
       "<Table length=20>\n",
       "   colname     ...\n",
       "    str14      ...\n",
       "-------------- ...\n",
       "       bibcode ...\n",
       "             d ...\n",
       "     meanError ...\n",
       "meanError_prec ...\n",
       "        mespos ...\n",
       "        nature ...\n",
       "         nbmes ...\n",
       "       obsdate ...\n",
       "  obsdate_prec ...\n",
       "        oidref ...\n",
       "        origin ...\n",
       "          qual ...\n",
       "       quality ...\n",
       "        remark ...\n",
       "       remarks ...\n",
       "    resolution ...\n",
       "       velType ...\n",
       "      velValue ...\n",
       " velValue_prec ...\n",
       "       wdomain ..."
      ]
     },
     "execution_count": 7,
     "metadata": {},
     "output_type": "execute_result"
    }
   ],
   "source": [
    "pprint_columns_description(\"mesVelocities\")"
   ]
  },
  {
   "cell_type": "markdown",
   "metadata": {},
   "source": [
    "We will query stars by their HIP or TYC identifiers. For this, we make a table with one column (`name`), and upload this in order to crossmatch in VOTable format."
   ]
  },
  {
   "cell_type": "code",
   "execution_count": 8,
   "metadata": {
    "collapsed": false
   },
   "outputs": [
    {
     "data": {
      "text/html": [
       "&lt;Table masked=True length=3&gt;\n",
       "<table id=\"table4540675576\" class=\"table-striped table-bordered table-condensed\">\n",
       "<thead><tr><th>name</th></tr></thead>\n",
       "<thead><tr><th>str15</th></tr></thead>\n",
       "<tr><td>TYC 8036-1001-1</td></tr>\n",
       "<tr><td>TYC 1772-508-1</td></tr>\n",
       "<tr><td>TYC 2911-1339-1</td></tr>\n",
       "</table>"
      ],
      "text/plain": [
       "<Table masked=True length=3>\n",
       "      name     \n",
       "     str15     \n",
       "---------------\n",
       "TYC 8036-1001-1\n",
       " TYC 1772-508-1\n",
       "TYC 2911-1339-1"
      ]
     },
     "execution_count": 8,
     "metadata": {},
     "output_type": "execute_result"
    }
   ],
   "source": [
    "identable = Table.read(\"test.xml\", format='votable')\n",
    "identable[:3]"
   ]
  },
  {
   "cell_type": "markdown",
   "metadata": {},
   "source": [
    "Grab `oidref` from `ident` table, and query `mesVelocities`."
   ]
  },
  {
   "cell_type": "code",
   "execution_count": 9,
   "metadata": {
    "collapsed": true
   },
   "outputs": [],
   "source": [
    "query = \"\"\"\n",
    "SELECT t.name,bibcode, nbmes, obsdate, qual, quality,\n",
    "    velType, velValue, velValue_prec, remark, remarks, ident.oidref\n",
    "FROM TAP_UPLOAD.mytable as t\n",
    "    JOIN ident ON t.name = ident.id\n",
    "    JOIN mesVelocities ON mesVelocities.oidref = ident.oidref\n",
    "\"\"\""
   ]
  },
  {
   "cell_type": "code",
   "execution_count": 10,
   "metadata": {
    "collapsed": false
   },
   "outputs": [
    {
     "name": "stdout",
     "output_type": "stream",
     "text": [
      "CPU times: user 178 ms, sys: 11 ms, total: 189 ms\n",
      "Wall time: 3.56 s\n"
     ]
    }
   ],
   "source": [
    "%%time\n",
    "result = simbadtap.run_sync(query, uploads={\"mytable\":('inline', 'test.xml')})"
   ]
  },
  {
   "cell_type": "markdown",
   "metadata": {},
   "source": [
    "Even for about 10k stars, this is very fast. We can access `astropy.table.Table` instance of the result as `result.table`. Better yet, because I know there are multiple measurements for some stars, I can convert it to `pandas.DataFrame` for further inspection."
   ]
  },
  {
   "cell_type": "code",
   "execution_count": 11,
   "metadata": {
    "collapsed": false,
    "scrolled": true
   },
   "outputs": [],
   "source": [
    "dfrv = result.table.to_pandas()\n",
    "# decode all bytestrings\n",
    "dfrv = dfrv.apply(lambda x: x.str.decode('utf-8') if x.dtype==object else x)"
   ]
  },
  {
   "cell_type": "code",
   "execution_count": 12,
   "metadata": {
    "collapsed": false
   },
   "outputs": [
    {
     "data": {
      "text/plain": [
       "quality        \n",
       "         count                 744\n",
       "         unique                438\n",
       "         top        TYC 2342-544-1\n",
       "         freq                   14\n",
       "A        count                 508\n",
       "         unique                360\n",
       "         top            HIP 107362\n",
       "         freq                    6\n",
       "B        count                 864\n",
       "         unique                709\n",
       "         top       TYC 6166-1405-1\n",
       "         freq                    4\n",
       "C        count                 382\n",
       "         unique                313\n",
       "         top        TYC 9344-293-1\n",
       "         freq                    3\n",
       "D        count                  89\n",
       "         unique                 84\n",
       "         top       TYC 8966-1241-1\n",
       "         freq                    3\n",
       "E        count                  31\n",
       "         unique                 30\n",
       "         top            HIP 109388\n",
       "         freq                    2\n",
       "Name: name, dtype: object"
      ]
     },
     "execution_count": 12,
     "metadata": {},
     "output_type": "execute_result"
    }
   ],
   "source": [
    "dfrv.groupby(\"quality\")['name'].describe()"
   ]
  },
  {
   "cell_type": "markdown",
   "metadata": {},
   "source": [
    "I see that there are quite a few stars with multiple quality A measurements. Let's see if they agree."
   ]
  },
  {
   "cell_type": "code",
   "execution_count": 13,
   "metadata": {
    "collapsed": false
   },
   "outputs": [],
   "source": [
    "rvA = dfrv.loc[dfrv.quality == 'A'].groupby(\"name\")"
   ]
  },
  {
   "cell_type": "code",
   "execution_count": 14,
   "metadata": {
    "collapsed": false
   },
   "outputs": [
    {
     "name": "stdout",
     "output_type": "stream",
     "text": [
      "96\n"
     ]
    }
   ],
   "source": [
    "# see if multiple quality A measurements agree with each other\n",
    "# make sure bibcode for the measurements are different\n",
    "rvAmulti = rvA.filter(lambda x:x.bibcode.unique().size>1)\n",
    "print(rvAmulti.name.unique().size)"
   ]
  },
  {
   "cell_type": "code",
   "execution_count": 19,
   "metadata": {
    "collapsed": false
   },
   "outputs": [
    {
     "data": {
      "image/png": "[encoded data removed]",
      "text/plain": [
       "<matplotlib.figure.Figure at 0x113e6b278>"
      ]
     },
     "metadata": {},
     "output_type": "display_data"
    }
   ],
   "source": [
    "# undersample for presentation\n",
    "rvAmulti.iloc[::10].boxplot(\"velValue\", \"name\", rot=90);"
   ]
  },
  {
   "cell_type": "markdown",
   "metadata": {},
   "source": [
    "..and they do for the most part!"
   ]
  },
  {
   "cell_type": "markdown",
   "metadata": {},
   "source": [
    "## Get all bibliographies"
   ]
  },
  {
   "cell_type": "markdown",
   "metadata": {},
   "source": [
    "Same goes for querying all bibliographies related to a set of objects.\n",
    "This time, we need to query `ref` and also need `has_ref` in order to crossmatch `oidref` with `oidbibref`, which is cross-identified with `ref.oidbib`."
   ]
  },
  {
   "cell_type": "code",
   "execution_count": 16,
   "metadata": {
    "collapsed": false
   },
   "outputs": [
    {
     "data": {
      "text/html": [
       "&lt;Table length=10&gt;\n",
       "<table id=\"table4542089648\" class=\"table-striped table-bordered table-condensed\">\n",
       "<thead><tr><th>colname</th><th>dtype</th><th>description</th></tr></thead>\n",
       "<thead><tr><th>str9</th><th>str3</th><th>str28</th></tr></thead>\n",
       "<tr><td>bibcode</td><td>|O</td><td>Bibcode</td></tr>\n",
       "<tr><td>doi</td><td>|O</td><td>DOI designation</td></tr>\n",
       "<tr><td>journal</td><td>|O</td><td>Abbreviation for the journal</td></tr>\n",
       "<tr><td>last_page</td><td>&lt;i4</td><td>Last page number</td></tr>\n",
       "<tr><td>nbobject</td><td>&lt;i4</td><td>Number of objects studied in</td></tr>\n",
       "<tr><td>oidbib</td><td>&lt;i8</td><td>Bibcode internal identifier</td></tr>\n",
       "<tr><td>page</td><td>&lt;i4</td><td>page number</td></tr>\n",
       "<tr><td>title</td><td>|O</td><td>Title</td></tr>\n",
       "<tr><td>volume</td><td>&lt;i4</td><td>volume number</td></tr>\n",
       "<tr><td>year</td><td>&lt;i2</td><td>Publication year</td></tr>\n",
       "</table>"
      ],
      "text/plain": [
       "<Table length=10>\n",
       " colname  dtype         description         \n",
       "   str9    str3            str28            \n",
       "--------- ----- ----------------------------\n",
       "  bibcode    |O                      Bibcode\n",
       "      doi    |O              DOI designation\n",
       "  journal    |O Abbreviation for the journal\n",
       "last_page   <i4             Last page number\n",
       " nbobject   <i4 Number of objects studied in\n",
       "   oidbib   <i8  Bibcode internal identifier\n",
       "     page   <i4                  page number\n",
       "    title    |O                        Title\n",
       "   volume   <i4                volume number\n",
       "     year   <i2             Publication year"
      ]
     },
     "execution_count": 16,
     "metadata": {},
     "output_type": "execute_result"
    }
   ],
   "source": [
    "pprint_columns_description(\"ref\")"
   ]
  },
  {
   "cell_type": "code",
   "execution_count": 17,
   "metadata": {
    "collapsed": false
   },
   "outputs": [
    {
     "data": {
      "text/html": [
       "&lt;Table length=5&gt;\n",
       "<table id=\"table4579551720\" class=\"table-striped table-bordered table-condensed\">\n",
       "<thead><tr><th>colname</th><th>dtype</th><th>description</th></tr></thead>\n",
       "<thead><tr><th>str10</th><th>str3</th><th>str33</th></tr></thead>\n",
       "<tr><td>obj_freq</td><td>&lt;i2</td><td>flag</td></tr>\n",
       "<tr><td>oidbibref</td><td>&lt;i8</td><td>Bibcode internal identifier</td></tr>\n",
       "<tr><td>oidref</td><td>&lt;i8</td><td>Object internal identifier</td></tr>\n",
       "<tr><td>ref_flag</td><td>&lt;i2</td><td>flag</td></tr>\n",
       "<tr><td>ref_raw_id</td><td>|O</td><td>id like it appears in the article</td></tr>\n",
       "</table>"
      ],
      "text/plain": [
       "<Table length=5>\n",
       " colname   dtype            description           \n",
       "  str10     str3               str33              \n",
       "---------- ----- ---------------------------------\n",
       "  obj_freq   <i2                              flag\n",
       " oidbibref   <i8       Bibcode internal identifier\n",
       "    oidref   <i8        Object internal identifier\n",
       "  ref_flag   <i2                              flag\n",
       "ref_raw_id    |O id like it appears in the article"
      ]
     },
     "execution_count": 17,
     "metadata": {},
     "output_type": "execute_result"
    }
   ],
   "source": [
    "pprint_columns_description('has_ref')"
   ]
  },
  {
   "cell_type": "code",
   "execution_count": 18,
   "metadata": {
    "collapsed": true
   },
   "outputs": [],
   "source": [
    "query = \"\"\"\n",
    "SELECT t.name, bibcode, journal, title,  year, volume, doi\n",
    "FROM TAP_UPLOAD.mytable as t\n",
    "    JOIN ident ON t.name = ident.id\n",
    "    JOIN has_ref ON has_ref.oidref = ident.oidref\n",
    "    JOIN ref ON ref.oidbib = has_ref.oidbibref\n",
    "\"\"\""
   ]
  }
 ],
 "metadata": {
  "anaconda-cloud": {},
  "kernelspec": {
   "display_name": "Python [conda env:gwb]",
   "language": "python",
   "name": "conda-env-gwb-py"
  },
  "language_info": {
   "codemirror_mode": {
    "name": "ipython",
    "version": 3
   },
   "file_extension": ".py",
   "mimetype": "text/x-python",
   "name": "python",
   "nbconvert_exporter": "python",
   "pygments_lexer": "ipython3",
   "version": "3.5.2"
  }
 },
 "nbformat": 4,
 "nbformat_minor": 2
}
